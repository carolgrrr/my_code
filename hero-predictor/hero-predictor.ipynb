{
 "cells": [
  {
   "cell_type": "code",
   "execution_count": 1,
   "metadata": {
    "collapsed": true
   },
   "outputs": [],
   "source": [
    "import requests\n",
    "import json\n",
    "import time"
   ]
  },
  {
   "cell_type": "code",
   "execution_count": 2,
   "metadata": {
    "collapsed": true
   },
   "outputs": [],
   "source": [
    "map_list = ['hanamura', 'haunted mines', 'towers of doom', 'infernal shrines', 'battlefield of eternity', \n",
    "        'tomb of the spider queen', 'sky temple', 'garden of terror', 'blackheart\\'s bay', \n",
    "        'dragon shire', 'cursed hollow', 'braxis holdout', 'warhead junction']\n",
    "hero_list = ['stukov', 'malthael', 'd.va', 'genji', 'cassia', 'probius',\n",
    "         'lucio', 'valeera', 'zul\\'jin', 'ragnaros', 'varian', 'samuro',\n",
    "         'zarya', 'alarak', 'auriel', 'gul\\'dan', 'medivh', 'chromie',\n",
    "         'tracer', 'dehaka', 'xul', 'li-ming', 'greymane', 'lunara',\n",
    "         'cho\\'gall', 'artanis', 'lt. morales', 'rexxar', 'kharazim',\n",
    "          'leoric', 'the butcher', 'johanna', 'kael\\'thas', 'sylvanas',\n",
    "         'the lost vikings', 'thrall', 'jaina', 'azmodan', 'anub\\'arak',\n",
    "         'chen', 'rehgar', 'zagara', 'murky', 'brightwing', 'li li',\n",
    "         'tychus', 'valla', 'tassadar', 'uther', 'nova', 'arthas',\n",
    "         'malfurion', 'sgt. hammer', 'nazeebo', 'falstad', 'zeratul',\n",
    "         'gazlowe', 'diablo', 'e.t.c', 'tyrande', 'illidan', 'kerrigan'\n",
    "         'raynor', 'abathur', 'tyrael', 'muradin', 'sonya', 'stitches']\n",
    "\n",
    "endpoints = {\n",
    "    \"heroes\": \"https://api.masterleague.net/heroes/?format=api\",\n",
    "    \"maps\": \"https://api.masterleague.net/maps/?format=api\",\n",
    "    \"regions\": \"https://api.masterleague.net/regions/?format=api\",\n",
    "    \"patches\": \"https://api.masterleague.net/patches/?format=api\",\n",
    "    \"teams\": \"https://api.masterleague.net/teams/?format=api\",\n",
    "    \"players\": \"https://api.masterleague.net/players/?format=api\",\n",
    "    \"tournaments\": \"https://api.masterleague.net/tournaments/?format=api\",\n",
    "    \"matches\": \"https://api.masterleague.net/matches/?format=api\",\n",
    "    \"calendar\": \"https://api.masterleague.net/calendar/?format=api\"\n",
    "}"
   ]
  },
  {
   "cell_type": "markdown",
   "metadata": {},
   "source": [
    "How to use the API for unauthenticated users."
   ]
  },
  {
   "cell_type": "code",
   "execution_count": 4,
   "metadata": {
    "collapsed": false
   },
   "outputs": [],
   "source": [
    "#import requests  # http://python-requests.org/\n",
    "\n",
    "API_ROOT = 'https://api.masterleague.net'\n",
    "API_USER = None\n",
    "API_PASS = None\n",
    "\n",
    "s = requests.Session()\n",
    "\n",
    "r = s.get(API_ROOT + '/heroes.json')\n",
    "data = json.loads(r.text)\n",
    "heroes = {}"
   ]
  },
  {
   "cell_type": "code",
   "execution_count": null,
   "metadata": {
    "collapsed": false
   },
   "outputs": [],
   "source": [
    "next_page = data['next']\n",
    "heroes = {}\n",
    "\n",
    "for hero in data['results']:\n",
    "    heroes[hero['id']] = hero['name']"
   ]
  },
  {
   "cell_type": "code",
   "execution_count": 5,
   "metadata": {
    "collapsed": false
   },
   "outputs": [],
   "source": [
    "while data['next'] is not None:\n",
    "    next_page = data['next']\n",
    "    text_results = s.get(next_page)\n",
    "    data = json.loads(text_results.text)\n",
    "    \n",
    "    next_page = data['next']\n",
    "    for hero in data['results']:\n",
    "        heroes[hero['id']] = hero['name']"
   ]
  },
  {
   "cell_type": "code",
   "execution_count": null,
   "metadata": {
    "collapsed": true
   },
   "outputs": [],
   "source": []
  },
  {
   "cell_type": "markdown",
   "metadata": {},
   "source": [
    "https://api.masterleague.net/?format=api"
   ]
  }
 ],
 "metadata": {
  "kernelspec": {
   "display_name": "Python 3",
   "language": "python",
   "name": "python3"
  },
  "language_info": {
   "codemirror_mode": {
    "name": "ipython",
    "version": 3
   },
   "file_extension": ".py",
   "mimetype": "text/x-python",
   "name": "python",
   "nbconvert_exporter": "python",
   "pygments_lexer": "ipython3",
   "version": "3.4.3"
  }
 },
 "nbformat": 4,
 "nbformat_minor": 0
}
