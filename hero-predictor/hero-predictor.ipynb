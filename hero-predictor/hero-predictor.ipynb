{
 "cells": [
  {
   "cell_type": "markdown",
   "metadata": {},
   "source": [
    "Import statements"
   ]
  },
  {
   "cell_type": "code",
   "execution_count": 12,
   "metadata": {
    "collapsed": true
   },
   "outputs": [],
   "source": [
    "import requests\n",
    "import json\n",
    "import time"
   ]
  },
  {
   "cell_type": "markdown",
   "metadata": {},
   "source": [
    "Create initial lists/dictionaries"
   ]
  },
  {
   "cell_type": "code",
   "execution_count": 13,
   "metadata": {
    "collapsed": true
   },
   "outputs": [],
   "source": [
    "endpoints = {\n",
    "    \"heroes\": \"https://api.masterleague.net/heroes/?format=api\",\n",
    "    \"maps\": \"https://api.masterleague.net/maps/?format=api\",\n",
    "    \"regions\": \"https://api.masterleague.net/regions/?format=api\",\n",
    "    \"patches\": \"https://api.masterleague.net/patches/?format=api\",\n",
    "    \"teams\": \"https://api.masterleague.net/teams/?format=api\",\n",
    "    \"players\": \"https://api.masterleague.net/players/?format=api\",\n",
    "    \"tournaments\": \"https://api.masterleague.net/tournaments/?format=api\",\n",
    "    \"matches\": \"https://api.masterleague.net/matches/?format=api\",\n",
    "    \"calendar\": \"https://api.masterleague.net/calendar/?format=api\"\n",
    "}"
   ]
  },
  {
   "cell_type": "markdown",
   "metadata": {},
   "source": [
    "How to use the API for unauthenticated users. https://api.masterleague.net/?format=api"
   ]
  },
  {
   "cell_type": "code",
   "execution_count": 14,
   "metadata": {
    "collapsed": false
   },
   "outputs": [],
   "source": [
    "#import requests  # http://python-requests.org/\n",
    "\n",
    "API_ROOT = 'https://api.masterleague.net'\n",
    "API_USER = None\n",
    "API_PASS = None\n",
    "\n",
    "session = requests.Session()"
   ]
  },
  {
   "cell_type": "markdown",
   "metadata": {},
   "source": [
    "Get data from heroes API."
   ]
  },
  {
   "cell_type": "code",
   "execution_count": 15,
   "metadata": {
    "collapsed": false
   },
   "outputs": [],
   "source": [
    "r = session.get(API_ROOT + '/heroes.json')\n",
    "data = json.loads(r.text)\n",
    "heroes = {}\n",
    "next_page = data['next']\n",
    "\n",
    "for hero in data['results']:\n",
    "    heroes[hero['id']] = hero['name']\n",
    "\n",
    "while data['next'] is not None:\n",
    "    next_page = data['next']\n",
    "    text_results = session.get(next_page)\n",
    "    data = json.loads(text_results.text)\n",
    "    \n",
    "    next_page = data['next']\n",
    "    for hero in data['results']:\n",
    "        heroes[hero['id']] = hero['name']"
   ]
  },
  {
   "cell_type": "markdown",
   "metadata": {},
   "source": [
    "Test call to match API"
   ]
  },
  {
   "cell_type": "code",
   "execution_count": 16,
   "metadata": {
    "collapsed": false
   },
   "outputs": [],
   "source": [
    "match_response = session.get(API_ROOT + '/matches.json')\n",
    "match_data = json.loads(match_response.text)\n",
    "#match_data"
   ]
  },
  {
   "cell_type": "markdown",
   "metadata": {},
   "source": [
    "Test call to tournament API"
   ]
  },
  {
   "cell_type": "code",
   "execution_count": 17,
   "metadata": {
    "collapsed": false
   },
   "outputs": [],
   "source": [
    "tournament_response = session.get(API_ROOT + '/tournaments.json')\n",
    "tournament_data = json.loads(tournament_response.text)\n",
    "#tournament_data"
   ]
  },
  {
   "cell_type": "markdown",
   "metadata": {},
   "source": [
    "## Tournament Functions"
   ]
  },
  {
   "cell_type": "code",
   "execution_count": 18,
   "metadata": {
    "collapsed": true
   },
   "outputs": [],
   "source": [
    "def add_tournament_details(tournament_dictionary, page_data):\n",
    "    for tournament in page_data:\n",
    "        tournament_id = tournament['id']\n",
    "        tournament_name = tournament['name']\n",
    "        tournament_dictionary[tournament_id] = tournament_name\n",
    "    return tournament_dictionary\n",
    "\n",
    "def create_tournament_dictionary(api_session, API_ROOT):\n",
    "    tournaments = {}\n",
    "    next_tournament_url = API_ROOT + '/tournaments.json'\n",
    "\n",
    "    while next_tournament_url is not None:\n",
    "        text_results = api_session.get(next_tournament_url)\n",
    "        tournament_data = json.loads(text_results.text)\n",
    "        page_data = tournament_data['results']\n",
    "        tournaments = add_tournament_details(tournaments, page_data)\n",
    "        next_tournament_url = tournament_data['next']\n",
    "    \n",
    "    return tournaments\n",
    "    "
   ]
  },
  {
   "cell_type": "markdown",
   "metadata": {},
   "source": [
    "### Create tournament dictionary"
   ]
  },
  {
   "cell_type": "code",
   "execution_count": 19,
   "metadata": {
    "collapsed": true
   },
   "outputs": [],
   "source": [
    "API_ROOT = 'https://api.masterleague.net'\n",
    "API_USER = None\n",
    "API_PASS = None\n",
    "\n",
    "session = requests.Session()\n",
    "\n",
    "tournament_dict = create_tournament_dictionary(session, API_ROOT)"
   ]
  },
  {
   "cell_type": "code",
   "execution_count": 20,
   "metadata": {
    "collapsed": false
   },
   "outputs": [
    {
     "data": {
      "text/plain": [
       "{5: 'Europe Spring Regional',\n",
       " 6: 'North America Spring Regional',\n",
       " 7: 'Enter The Storm - North America Cup #2',\n",
       " 8: 'Super League - Season 1',\n",
       " 9: 'Europe Summer Regional #1',\n",
       " 10: 'Spring Global Championship',\n",
       " 11: 'Gold Series 2015 - Grand Finals',\n",
       " 12: 'Gold Series 2016 - Spring',\n",
       " 13: 'DreamHack All-Stars - Austin 2016',\n",
       " 14: 'DreamHack All-Stars - Tours 2016',\n",
       " 15: 'Super League - Season 2',\n",
       " 16: 'North America Summer Regional #2',\n",
       " 17: 'Summer Global Championship',\n",
       " 18: 'DreamHack All-Stars - Valencia 2016',\n",
       " 19: 'ZOTAC Cup',\n",
       " 20: 'Power League - Season 2',\n",
       " 21: 'North America Fall Regional #1',\n",
       " 22: 'Europe Fall Regional #2',\n",
       " 23: 'Super League - Season 3',\n",
       " 24: 'Gold Series 2016 - Summer',\n",
       " 25: 'North America Fall Regional #2',\n",
       " 26: 'Bloodlust',\n",
       " 27: 'Europe Nexus Games',\n",
       " 28: 'North America Nexus Games',\n",
       " 29: 'Machines of War Showdown',\n",
       " 30: 'Fall Global Championship',\n",
       " 31: 'Gold Club World Championship',\n",
       " 32: 'HGC North America - Phase 1',\n",
       " 33: 'HGC Europe - Phase 1',\n",
       " 34: 'Gold Series 2016 - Grand Finals',\n",
       " 35: 'HGC Europe - Open Division',\n",
       " 36: 'HGC North America - Open Division',\n",
       " 37: 'HGC Korea - Phase 1',\n",
       " 38: 'Western Clash - Phase 1',\n",
       " 39: 'Eastern Clash - Phase 1',\n",
       " 40: 'HGC China - Phase 1',\n",
       " 41: 'King of the Storm',\n",
       " 42: 'Mid-Season Brawl',\n",
       " 43: 'HGC Europe - Phase 2',\n",
       " 44: 'HGC North America - Phase 2',\n",
       " 45: 'HGC Korea - Phase 2',\n",
       " 46: 'HGC China - Phase 2',\n",
       " 47: 'Western Clash - Phase 2',\n",
       " 48: 'Bloodlust 2017',\n",
       " 49: 'Eastern Clash - Phase 2'}"
      ]
     },
     "execution_count": 20,
     "metadata": {},
     "output_type": "execute_result"
    }
   ],
   "source": [
    "tournament_dict"
   ]
  },
  {
   "cell_type": "markdown",
   "metadata": {},
   "source": [
    "https://api.masterleague.net/?format=api"
   ]
  }
 ],
 "metadata": {
  "kernelspec": {
   "display_name": "Python 3",
   "language": "python",
   "name": "python3"
  },
  "language_info": {
   "codemirror_mode": {
    "name": "ipython",
    "version": 3
   },
   "file_extension": ".py",
   "mimetype": "text/x-python",
   "name": "python",
   "nbconvert_exporter": "python",
   "pygments_lexer": "ipython3",
   "version": "3.4.3"
  }
 },
 "nbformat": 4,
 "nbformat_minor": 0
}
