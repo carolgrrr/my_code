{
 "cells": [
  {
   "cell_type": "markdown",
   "metadata": {},
   "source": [
    "Import statements"
   ]
  },
  {
   "cell_type": "code",
   "execution_count": 1,
   "metadata": {
    "collapsed": true
   },
   "outputs": [],
   "source": [
    "import requests\n",
    "import json\n",
    "import time"
   ]
  },
  {
   "cell_type": "markdown",
   "metadata": {},
   "source": [
    "Create initial lists/dictionaries. **Thank you [Master League](https://masterleague.net/) for the data!**"
   ]
  },
  {
   "cell_type": "code",
   "execution_count": null,
   "metadata": {
    "collapsed": true
   },
   "outputs": [],
   "source": [
    "endpoints = {\n",
    "    \"heroes\": \"https://api.masterleague.net/heroes/?format=api\",\n",
    "    \"maps\": \"https://api.masterleague.net/maps/?format=api\",\n",
    "    \"regions\": \"https://api.masterleague.net/regions/?format=api\",\n",
    "    \"patches\": \"https://api.masterleague.net/patches/?format=api\",\n",
    "    \"teams\": \"https://api.masterleague.net/teams/?format=api\",\n",
    "    \"players\": \"https://api.masterleague.net/players/?format=api\",\n",
    "    \"tournaments\": \"https://api.masterleague.net/tournaments/?format=api\",\n",
    "    \"matches\": \"https://api.masterleague.net/matches/?format=api\",\n",
    "    \"calendar\": \"https://api.masterleague.net/calendar/?format=api\"\n",
    "}"
   ]
  },
  {
   "cell_type": "markdown",
   "metadata": {},
   "source": [
    "How to use the API for unauthenticated users. https://api.masterleague.net/?format=api"
   ]
  },
  {
   "cell_type": "code",
   "execution_count": null,
   "metadata": {
    "collapsed": false
   },
   "outputs": [],
   "source": [
    "#import requests  # http://python-requests.org/\n",
    "\n",
    "API_ROOT = 'https://api.masterleague.net'\n",
    "API_USER = None\n",
    "API_PASS = None\n",
    "\n",
    "session = requests.Session()"
   ]
  },
  {
   "cell_type": "markdown",
   "metadata": {},
   "source": [
    "Get data from heroes API."
   ]
  },
  {
   "cell_type": "code",
   "execution_count": null,
   "metadata": {
    "collapsed": false
   },
   "outputs": [],
   "source": [
    "r = session.get(API_ROOT + '/heroes.json')\n",
    "data = json.loads(r.text)\n",
    "heroes = {}\n",
    "next_page = data['next']\n",
    "\n",
    "for hero in data['results']:\n",
    "    heroes[hero['id']] = hero['name']\n",
    "\n",
    "while data['next'] is not None:\n",
    "    next_page = data['next']\n",
    "    text_results = session.get(next_page)\n",
    "    data = json.loads(text_results.text)\n",
    "    \n",
    "    next_page = data['next']\n",
    "    for hero in data['results']:\n",
    "        heroes[hero['id']] = hero['name']"
   ]
  },
  {
   "cell_type": "markdown",
   "metadata": {},
   "source": [
    "Test call to match API"
   ]
  },
  {
   "cell_type": "code",
   "execution_count": null,
   "metadata": {
    "collapsed": false
   },
   "outputs": [],
   "source": [
    "match_response = session.get(API_ROOT + '/matches.json')\n",
    "match_data = json.loads(match_response.text)\n",
    "match_data"
   ]
  },
  {
   "cell_type": "markdown",
   "metadata": {},
   "source": [
    "Test call to tournament API"
   ]
  },
  {
   "cell_type": "code",
   "execution_count": null,
   "metadata": {
    "collapsed": false
   },
   "outputs": [],
   "source": [
    "tournament_response = session.get(API_ROOT + '/tournaments.json')\n",
    "tournament_data = json.loads(tournament_response.text)\n",
    "#tournament_data"
   ]
  },
  {
   "cell_type": "markdown",
   "metadata": {},
   "source": [
    "## Tournament Functions"
   ]
  },
  {
   "cell_type": "code",
   "execution_count": null,
   "metadata": {
    "collapsed": true
   },
   "outputs": [],
   "source": [
    "def add_tournament_details(tournament_dictionary, page_data):\n",
    "    for tournament in page_data:\n",
    "        tournament_id = tournament['id']\n",
    "        tournament_name = tournament['name']\n",
    "        tournament_dictionary[tournament_id] = tournament_name\n",
    "    return tournament_dictionary\n",
    "\n",
    "def create_tournament_dictionary(api_session, API_ROOT):\n",
    "    tournaments = {}\n",
    "    next_tournament_url = API_ROOT + '/tournaments.json'\n",
    "\n",
    "    while next_tournament_url is not None:\n",
    "        text_results = api_session.get(next_tournament_url)\n",
    "        tournament_data = json.loads(text_results.text)\n",
    "        page_data = tournament_data['results']\n",
    "        tournaments = add_tournament_details(tournaments, page_data)\n",
    "        next_tournament_url = tournament_data['next']\n",
    "    \n",
    "    return tournaments\n",
    "    "
   ]
  },
  {
   "cell_type": "markdown",
   "metadata": {},
   "source": [
    "## Match Functions"
   ]
  },
  {
   "cell_type": "code",
   "execution_count": 2,
   "metadata": {
    "collapsed": false
   },
   "outputs": [],
   "source": [
    "def get_match_data(tournament_id, API_ROOT):\n",
    "    session = requests.Session()\n",
    "    matches = {}\n",
    "    match_url = API_ROOT + '/matches.json'\n",
    "    \n",
    "    while match_url is not None:\n",
    "        text_results = session.get(match_url)\n",
    "        match_data = json.loads(text_results.text)\n",
    "        #print(match_data)\n",
    "        for match in match_data['results']:\n",
    "            tournament = match['tournament']\n",
    "            if tournament == tournament_id:\n",
    "                match_id = match['id']\n",
    "                matches[match_id] = match\n",
    "        time.sleep(2)\n",
    "        match_url = match_data['next']\n",
    "        \n",
    "    return matches\n",
    "    "
   ]
  },
  {
   "cell_type": "markdown",
   "metadata": {},
   "source": [
    "### Create tournament dictionary"
   ]
  },
  {
   "cell_type": "code",
   "execution_count": 3,
   "metadata": {
    "collapsed": true
   },
   "outputs": [],
   "source": [
    "API_ROOT = 'https://api.masterleague.net'\n",
    "API_USER = None\n",
    "API_PASS = None\n",
    "\n",
    "session = requests.Session()"
   ]
  },
  {
   "cell_type": "code",
   "execution_count": null,
   "metadata": {
    "collapsed": true
   },
   "outputs": [],
   "source": [
    "tournament_dict = create_tournament_dictionary(session, API_ROOT)"
   ]
  },
  {
   "cell_type": "code",
   "execution_count": null,
   "metadata": {
    "collapsed": false
   },
   "outputs": [],
   "source": [
    "tournament_dict"
   ]
  },
  {
   "cell_type": "markdown",
   "metadata": {},
   "source": [
    "https://api.masterleague.net/?format=api"
   ]
  },
  {
   "cell_type": "markdown",
   "metadata": {},
   "source": [
    "Get match data for match **32: HGC North America - Phase 1**"
   ]
  },
  {
   "cell_type": "code",
   "execution_count": 4,
   "metadata": {
    "collapsed": false
   },
   "outputs": [
    {
     "ename": "KeyError",
     "evalue": "'results'",
     "output_type": "error",
     "traceback": [
      "\u001b[0;31m---------------------------------------------------------------------------\u001b[0m",
      "\u001b[0;31mKeyError\u001b[0m                                  Traceback (most recent call last)",
      "\u001b[0;32m<ipython-input-4-461e488831f3>\u001b[0m in \u001b[0;36m<module>\u001b[0;34m()\u001b[0m\n\u001b[0;32m----> 1\u001b[0;31m \u001b[0mmatch_dict\u001b[0m \u001b[0;34m=\u001b[0m \u001b[0mget_match_data\u001b[0m\u001b[0;34m(\u001b[0m\u001b[0;36m32\u001b[0m\u001b[0;34m,\u001b[0m \u001b[0mAPI_ROOT\u001b[0m\u001b[0;34m)\u001b[0m\u001b[0;34m\u001b[0m\u001b[0m\n\u001b[0m",
      "\u001b[0;32m<ipython-input-2-0027c8f576f9>\u001b[0m in \u001b[0;36mget_match_data\u001b[0;34m(tournament_id, API_ROOT)\u001b[0m\n\u001b[1;32m      8\u001b[0m         \u001b[0mmatch_data\u001b[0m \u001b[0;34m=\u001b[0m \u001b[0mjson\u001b[0m\u001b[0;34m.\u001b[0m\u001b[0mloads\u001b[0m\u001b[0;34m(\u001b[0m\u001b[0mtext_results\u001b[0m\u001b[0;34m.\u001b[0m\u001b[0mtext\u001b[0m\u001b[0;34m)\u001b[0m\u001b[0;34m\u001b[0m\u001b[0m\n\u001b[1;32m      9\u001b[0m         \u001b[0;31m#print(match_data)\u001b[0m\u001b[0;34m\u001b[0m\u001b[0;34m\u001b[0m\u001b[0m\n\u001b[0;32m---> 10\u001b[0;31m         \u001b[0;32mfor\u001b[0m \u001b[0mmatch\u001b[0m \u001b[0;32min\u001b[0m \u001b[0mmatch_data\u001b[0m\u001b[0;34m[\u001b[0m\u001b[0;34m'results'\u001b[0m\u001b[0;34m]\u001b[0m\u001b[0;34m:\u001b[0m\u001b[0;34m\u001b[0m\u001b[0m\n\u001b[0m\u001b[1;32m     11\u001b[0m             \u001b[0mtournament\u001b[0m \u001b[0;34m=\u001b[0m \u001b[0mmatch\u001b[0m\u001b[0;34m[\u001b[0m\u001b[0;34m'tournament'\u001b[0m\u001b[0;34m]\u001b[0m\u001b[0;34m\u001b[0m\u001b[0m\n\u001b[1;32m     12\u001b[0m             \u001b[0;32mif\u001b[0m \u001b[0mtournament\u001b[0m \u001b[0;34m==\u001b[0m \u001b[0mtournament_id\u001b[0m\u001b[0;34m:\u001b[0m\u001b[0;34m\u001b[0m\u001b[0m\n",
      "\u001b[0;31mKeyError\u001b[0m: 'results'"
     ]
    }
   ],
   "source": [
    "match_dict = get_match_data(32, API_ROOT)"
   ]
  },
  {
   "cell_type": "code",
   "execution_count": null,
   "metadata": {
    "collapsed": false
   },
   "outputs": [],
   "source": [
    "match_dict"
   ]
  },
  {
   "cell_type": "markdown",
   "metadata": {},
   "source": [
    "sleep 5 seconds, more than 45 minutes to run. what is the minimum time we can sleep?\n",
    "Start: 11:46 (sleep 1 second) - wrong. infinite loop.\n",
    "Restarted: 11:52 (sleep 1 second)"
   ]
  }
 ],
 "metadata": {
  "kernelspec": {
   "display_name": "Python 3",
   "language": "python",
   "name": "python3"
  },
  "language_info": {
   "codemirror_mode": {
    "name": "ipython",
    "version": 3
   },
   "file_extension": ".py",
   "mimetype": "text/x-python",
   "name": "python",
   "nbconvert_exporter": "python",
   "pygments_lexer": "ipython3",
   "version": "3.4.3"
  }
 },
 "nbformat": 4,
 "nbformat_minor": 0
}
