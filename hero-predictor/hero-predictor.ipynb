{
 "cells": [
  {
   "cell_type": "markdown",
   "metadata": {},
   "source": [
    "Import statements"
   ]
  },
  {
   "cell_type": "code",
   "execution_count": 3,
   "metadata": {
    "collapsed": true
   },
   "outputs": [],
   "source": [
    "import requests\n",
    "import json\n",
    "import time"
   ]
  },
  {
   "cell_type": "markdown",
   "metadata": {},
   "source": [
    "Create initial lists/dictionaries"
   ]
  },
  {
   "cell_type": "code",
   "execution_count": 4,
   "metadata": {
    "collapsed": true
   },
   "outputs": [],
   "source": [
    "map_list = ['hanamura', 'haunted mines', 'towers of doom', 'infernal shrines', 'battlefield of eternity', \n",
    "        'tomb of the spider queen', 'sky temple', 'garden of terror', 'blackheart\\'s bay', \n",
    "        'dragon shire', 'cursed hollow', 'braxis holdout', 'warhead junction']\n",
    "hero_list = ['stukov', 'malthael', 'd.va', 'genji', 'cassia', 'probius',\n",
    "         'lucio', 'valeera', 'zul\\'jin', 'ragnaros', 'varian', 'samuro',\n",
    "         'zarya', 'alarak', 'auriel', 'gul\\'dan', 'medivh', 'chromie',\n",
    "         'tracer', 'dehaka', 'xul', 'li-ming', 'greymane', 'lunara',\n",
    "         'cho\\'gall', 'artanis', 'lt. morales', 'rexxar', 'kharazim',\n",
    "          'leoric', 'the butcher', 'johanna', 'kael\\'thas', 'sylvanas',\n",
    "         'the lost vikings', 'thrall', 'jaina', 'azmodan', 'anub\\'arak',\n",
    "         'chen', 'rehgar', 'zagara', 'murky', 'brightwing', 'li li',\n",
    "         'tychus', 'valla', 'tassadar', 'uther', 'nova', 'arthas',\n",
    "         'malfurion', 'sgt. hammer', 'nazeebo', 'falstad', 'zeratul',\n",
    "         'gazlowe', 'diablo', 'e.t.c', 'tyrande', 'illidan', 'kerrigan'\n",
    "         'raynor', 'abathur', 'tyrael', 'muradin', 'sonya', 'stitches']\n",
    "\n",
    "endpoints = {\n",
    "    \"heroes\": \"https://api.masterleague.net/heroes/?format=api\",\n",
    "    \"maps\": \"https://api.masterleague.net/maps/?format=api\",\n",
    "    \"regions\": \"https://api.masterleague.net/regions/?format=api\",\n",
    "    \"patches\": \"https://api.masterleague.net/patches/?format=api\",\n",
    "    \"teams\": \"https://api.masterleague.net/teams/?format=api\",\n",
    "    \"players\": \"https://api.masterleague.net/players/?format=api\",\n",
    "    \"tournaments\": \"https://api.masterleague.net/tournaments/?format=api\",\n",
    "    \"matches\": \"https://api.masterleague.net/matches/?format=api\",\n",
    "    \"calendar\": \"https://api.masterleague.net/calendar/?format=api\"\n",
    "}"
   ]
  },
  {
   "cell_type": "markdown",
   "metadata": {},
   "source": [
    "How to use the API for unauthenticated users. https://api.masterleague.net/?format=api"
   ]
  },
  {
   "cell_type": "code",
   "execution_count": 5,
   "metadata": {
    "collapsed": false
   },
   "outputs": [],
   "source": [
    "#import requests  # http://python-requests.org/\n",
    "\n",
    "API_ROOT = 'https://api.masterleague.net'\n",
    "API_USER = None\n",
    "API_PASS = None\n",
    "\n",
    "session = requests.Session()"
   ]
  },
  {
   "cell_type": "markdown",
   "metadata": {},
   "source": [
    "Get data from heroes API."
   ]
  },
  {
   "cell_type": "code",
   "execution_count": 7,
   "metadata": {
    "collapsed": false
   },
   "outputs": [],
   "source": [
    "r = session.get(API_ROOT + '/heroes.json')\n",
    "data = json.loads(r.text)\n",
    "heroes = {}\n",
    "next_page = data['next']\n",
    "\n",
    "for hero in data['results']:\n",
    "    heroes[hero['id']] = hero['name']\n",
    "\n",
    "while data['next'] is not None:\n",
    "    next_page = data['next']\n",
    "    text_results = session.get(next_page)\n",
    "    data = json.loads(text_results.text)\n",
    "    \n",
    "    next_page = data['next']\n",
    "    for hero in data['results']:\n",
    "        heroes[hero['id']] = hero['name']"
   ]
  },
  {
   "cell_type": "code",
   "execution_count": 10,
   "metadata": {
    "collapsed": false
   },
   "outputs": [],
   "source": [
    "match_response = session.get(API_ROOT + '/matches.json')\n",
    "match_data = json.loads(match_response.text)\n",
    "#match_data"
   ]
  },
  {
   "cell_type": "code",
   "execution_count": 16,
   "metadata": {
    "collapsed": false
   },
   "outputs": [
    {
     "data": {
      "text/plain": [
       "{'count': 45,\n",
       " 'next': 'https://api.masterleague.net/tournaments.json?page=2',\n",
       " 'previous': None,\n",
       " 'results': [{'end_date': '2017-10-15',\n",
       "   'id': 35,\n",
       "   'name': 'HGC Europe - Open Division',\n",
       "   'region': 1,\n",
       "   'stages': [{'id': 214, 'name': 'Cup 11'},\n",
       "    {'id': 211, 'name': 'Cup 10'},\n",
       "    {'id': 208, 'name': 'Cup 9'},\n",
       "    {'id': 203, 'name': 'Cup 8'},\n",
       "    {'id': 192, 'name': 'Phase 1 Playoffs'},\n",
       "    {'id': 187, 'name': 'Cup 7'},\n",
       "    {'id': 181, 'name': 'Cup 6'},\n",
       "    {'id': 177, 'name': 'Cup 5'},\n",
       "    {'id': 174, 'name': 'Cup 4'},\n",
       "    {'id': 171, 'name': 'Cup 3'},\n",
       "    {'id': 169, 'name': 'Cup 2'},\n",
       "    {'id': 165, 'name': 'Cup 1'}],\n",
       "   'start_date': '2017-01-16',\n",
       "   'url': 'https://masterleague.net/tournament/35/'},\n",
       "  {'end_date': '2017-10-15',\n",
       "   'id': 36,\n",
       "   'name': 'HGC North America - Open Division',\n",
       "   'region': 2,\n",
       "   'stages': [{'id': 219, 'name': 'Cup 11'},\n",
       "    {'id': 215, 'name': 'Bonus Cup'},\n",
       "    {'id': 213, 'name': 'Cup 10'},\n",
       "    {'id': 210, 'name': 'Cup 9'},\n",
       "    {'id': 204, 'name': 'Cup 8'},\n",
       "    {'id': 193, 'name': 'Phase 1 Playoffs'},\n",
       "    {'id': 191, 'name': 'Cup 7'},\n",
       "    {'id': 182, 'name': 'Cup 6'},\n",
       "    {'id': 179, 'name': 'Cup 5'},\n",
       "    {'id': 176, 'name': 'Cup 4'},\n",
       "    {'id': 173, 'name': 'Cup 3'},\n",
       "    {'id': 170, 'name': 'Cup 2'},\n",
       "    {'id': 166, 'name': 'Cup 1'}],\n",
       "   'start_date': '2017-01-24',\n",
       "   'url': 'https://masterleague.net/tournament/36/'},\n",
       "  {'end_date': '2017-10-08',\n",
       "   'id': 43,\n",
       "   'name': 'HGC Europe - Phase 2',\n",
       "   'region': 1,\n",
       "   'stages': [{'id': 205, 'name': 'Group stage 1'}],\n",
       "   'start_date': '2017-06-23',\n",
       "   'url': 'https://masterleague.net/tournament/43/'},\n",
       "  {'end_date': '2017-10-08',\n",
       "   'id': 44,\n",
       "   'name': 'HGC North America - Phase 2',\n",
       "   'region': 2,\n",
       "   'stages': [{'id': 206, 'name': 'Group stage 1'}],\n",
       "   'start_date': '2017-06-23',\n",
       "   'url': 'https://masterleague.net/tournament/44/'},\n",
       "  {'end_date': '2017-10-08',\n",
       "   'id': 45,\n",
       "   'name': 'HGC Korea - Phase 2',\n",
       "   'region': 3,\n",
       "   'stages': [{'id': 207, 'name': 'Group stage 1'}],\n",
       "   'start_date': '2017-06-23',\n",
       "   'url': 'https://masterleague.net/tournament/45/'},\n",
       "  {'end_date': '2017-10-08',\n",
       "   'id': 46,\n",
       "   'name': 'HGC China - Phase 2',\n",
       "   'region': 4,\n",
       "   'stages': [{'id': 218, 'name': 'Standings'},\n",
       "    {'id': 212, 'name': 'Group stage 1 Part 2'},\n",
       "    {'id': 209, 'name': 'Group stage 1 Part 1'}],\n",
       "   'start_date': '2017-06-26',\n",
       "   'url': 'https://masterleague.net/tournament/46/'},\n",
       "  {'end_date': '2017-08-13',\n",
       "   'id': 49,\n",
       "   'name': 'Eastern Clash - Phase 2',\n",
       "   'region': None,\n",
       "   'stages': [{'id': 220, 'name': 'Playoffs'}],\n",
       "   'start_date': '2017-08-11',\n",
       "   'url': 'https://masterleague.net/tournament/49/'},\n",
       "  {'end_date': '2017-08-06',\n",
       "   'id': 47,\n",
       "   'name': 'Western Clash - Phase 2',\n",
       "   'region': None,\n",
       "   'stages': [{'id': 216, 'name': 'Playoffs'}],\n",
       "   'start_date': '2017-08-04',\n",
       "   'url': 'https://masterleague.net/tournament/47/'},\n",
       "  {'end_date': '2017-07-31',\n",
       "   'id': 48,\n",
       "   'name': 'Bloodlust 2017',\n",
       "   'region': 2,\n",
       "   'stages': [{'id': 217, 'name': 'Playoffs'}],\n",
       "   'start_date': '2017-07-28',\n",
       "   'url': 'https://masterleague.net/tournament/48/'},\n",
       "  {'end_date': '2017-06-19',\n",
       "   'id': 42,\n",
       "   'name': 'Mid-Season Brawl',\n",
       "   'region': None,\n",
       "   'stages': [{'id': 202, 'name': 'Playoffs'},\n",
       "    {'id': 201, 'name': 'Group B'},\n",
       "    {'id': 200, 'name': 'Group A'}],\n",
       "   'start_date': '2017-06-10',\n",
       "   'url': 'https://masterleague.net/tournament/42/'},\n",
       "  {'end_date': '2017-05-28',\n",
       "   'id': 32,\n",
       "   'name': 'HGC North America - Phase 1',\n",
       "   'region': 2,\n",
       "   'stages': [{'id': 198, 'name': 'HGC Crucible'},\n",
       "    {'id': 196, 'name': 'Playoffs'},\n",
       "    {'id': 190, 'name': 'Standings'},\n",
       "    {'id': 185, 'name': 'Group stage 2'},\n",
       "    {'id': 168, 'name': 'Group stage 1'},\n",
       "    {'id': 147, 'name': 'Qualifier #3'},\n",
       "    {'id': 146, 'name': 'Qualifier #2'},\n",
       "    {'id': 145, 'name': 'Qualifier #1'}],\n",
       "   'start_date': '2016-11-21',\n",
       "   'url': 'https://masterleague.net/tournament/32/'},\n",
       "  {'end_date': '2017-05-28',\n",
       "   'id': 33,\n",
       "   'name': 'HGC Europe - Phase 1',\n",
       "   'region': 1,\n",
       "   'stages': [{'id': 197, 'name': 'HGC Crucible'},\n",
       "    {'id': 194, 'name': 'Playoffs'},\n",
       "    {'id': 189, 'name': 'Standings'},\n",
       "    {'id': 184, 'name': 'Group stage 2'},\n",
       "    {'id': 167, 'name': 'Group stage 1'},\n",
       "    {'id': 144, 'name': 'Qualifier #3'},\n",
       "    {'id': 143, 'name': 'Qualifier #2'},\n",
       "    {'id': 142, 'name': 'Qualifier #1'}],\n",
       "   'start_date': '2016-11-19',\n",
       "   'url': 'https://masterleague.net/tournament/33/'},\n",
       "  {'end_date': '2017-05-28',\n",
       "   'id': 37,\n",
       "   'name': 'HGC Korea - Phase 1',\n",
       "   'region': 3,\n",
       "   'stages': [{'id': 199, 'name': 'HGC Crucible'},\n",
       "    {'id': 195, 'name': 'Playoffs'},\n",
       "    {'id': 188, 'name': 'Standings'},\n",
       "    {'id': 186, 'name': 'Group stage 2'},\n",
       "    {'id': 172, 'name': 'Group stage 1'}],\n",
       "   'start_date': '2017-02-03',\n",
       "   'url': 'https://masterleague.net/tournament/37/'},\n",
       "  {'end_date': '2017-05-28',\n",
       "   'id': 40,\n",
       "   'name': 'HGC China - Phase 1',\n",
       "   'region': 4,\n",
       "   'stages': [{'id': 180, 'name': 'Group stage'}],\n",
       "   'start_date': '2017-04-03',\n",
       "   'url': 'https://masterleague.net/tournament/40/'},\n",
       "  {'end_date': '2017-04-09',\n",
       "   'id': 41,\n",
       "   'name': 'King of the Storm',\n",
       "   'region': 1,\n",
       "   'stages': [{'id': 183, 'name': 'Playoff'}],\n",
       "   'start_date': '2017-03-15',\n",
       "   'url': 'https://masterleague.net/tournament/41/'},\n",
       "  {'end_date': '2017-03-19',\n",
       "   'id': 39,\n",
       "   'name': 'Eastern Clash - Phase 1',\n",
       "   'region': None,\n",
       "   'stages': [{'id': 178, 'name': 'Playoff'}],\n",
       "   'start_date': '2017-03-17',\n",
       "   'url': 'https://masterleague.net/tournament/39/'},\n",
       "  {'end_date': '2017-03-05',\n",
       "   'id': 38,\n",
       "   'name': 'Western Clash - Phase 1',\n",
       "   'region': None,\n",
       "   'stages': [{'id': 175, 'name': 'Playoff'}],\n",
       "   'start_date': '2017-03-03',\n",
       "   'url': 'https://masterleague.net/tournament/38/'},\n",
       "  {'end_date': '2017-01-08',\n",
       "   'id': 34,\n",
       "   'name': 'Gold Series 2016 - Grand Finals',\n",
       "   'region': 4,\n",
       "   'stages': [{'id': 163, 'name': 'Playoffs'},\n",
       "    {'id': 164, 'name': 'Tiebreak'},\n",
       "    {'id': 161, 'name': 'Group stage'}],\n",
       "   'start_date': '2016-12-16',\n",
       "   'url': 'https://masterleague.net/tournament/34/'},\n",
       "  {'end_date': '2016-12-17',\n",
       "   'id': 19,\n",
       "   'name': 'ZOTAC Cup',\n",
       "   'region': 1,\n",
       "   'stages': [{'id': 159, 'name': 'Monthly #21'},\n",
       "    {'id': 158, 'name': 'Weekly #70'},\n",
       "    {'id': 157, 'name': 'Weekly #69'},\n",
       "    {'id': 154, 'name': 'Monthly #20'},\n",
       "    {'id': 150, 'name': 'Weekly #68'},\n",
       "    {'id': 152, 'name': 'Monthly #19'},\n",
       "    {'id': 149, 'name': 'Weekly #67'},\n",
       "    {'id': 148, 'name': 'Weekly #66'},\n",
       "    {'id': 141, 'name': 'Weekly #65'},\n",
       "    {'id': 140, 'name': 'Weekly #64'},\n",
       "    {'id': 139, 'name': 'Weekly #63'},\n",
       "    {'id': 138, 'name': 'Weekly #62'},\n",
       "    {'id': 135, 'name': 'Monthly #18'},\n",
       "    {'id': 127, 'name': 'Weekly #61'},\n",
       "    {'id': 124, 'name': 'Weekly #60'},\n",
       "    {'id': 121, 'name': 'Weekly #59'},\n",
       "    {'id': 117, 'name': 'Monthly #17'},\n",
       "    {'id': 115, 'name': 'Weekly #58'},\n",
       "    {'id': 105, 'name': 'Weekly #57'},\n",
       "    {'id': 104, 'name': 'Weekly #56'},\n",
       "    {'id': 100, 'name': 'Monthly #16'},\n",
       "    {'id': 93, 'name': 'Weekly #55'},\n",
       "    {'id': 91, 'name': 'Weekly #54'},\n",
       "    {'id': 89, 'name': 'Weekly #53'},\n",
       "    {'id': 88, 'name': 'Weekly #52'},\n",
       "    {'id': 78, 'name': 'Monthly #15'},\n",
       "    {'id': 92, 'name': 'Weekly #51'},\n",
       "    {'id': 77, 'name': 'Monthly #14'}],\n",
       "   'start_date': '2015-03-07',\n",
       "   'url': 'https://masterleague.net/tournament/19/'},\n",
       "  {'end_date': '2016-12-04',\n",
       "   'id': 31,\n",
       "   'name': 'Gold Club World Championship',\n",
       "   'region': None,\n",
       "   'stages': [{'id': 156, 'name': 'Playoffs'},\n",
       "    {'id': 155, 'name': 'Group Stage'},\n",
       "    {'id': 153, 'name': 'Chinese Wildcard'},\n",
       "    {'id': 151, 'name': 'Global Wildcard'}],\n",
       "   'start_date': '2016-11-11',\n",
       "   'url': 'https://masterleague.net/tournament/31/'}]}"
      ]
     },
     "execution_count": 16,
     "metadata": {},
     "output_type": "execute_result"
    }
   ],
   "source": [
    "tournament_response = session.get(API_ROOT + '/tournaments.json')\n",
    "tournament_data = json.loads(tournament_response.text)\n",
    "tournament_data"
   ]
  },
  {
   "cell_type": "code",
   "execution_count": 15,
   "metadata": {
    "collapsed": false
   },
   "outputs": [
    {
     "name": "stdout",
     "output_type": "stream",
     "text": [
      "%s: %s\n"
     ]
    },
    {
     "ename": "TypeError",
     "evalue": "unsupported operand type(s) for %: 'NoneType' and 'tuple'",
     "output_type": "error",
     "traceback": [
      "\u001b[0;31m---------------------------------------------------------------------------\u001b[0m",
      "\u001b[0;31mTypeError\u001b[0m                                 Traceback (most recent call last)",
      "\u001b[0;32m<ipython-input-15-89e1896fddbd>\u001b[0m in \u001b[0;36m<module>\u001b[0;34m()\u001b[0m\n\u001b[1;32m      7\u001b[0m \u001b[0;32mfor\u001b[0m \u001b[0mtournament\u001b[0m \u001b[0;32min\u001b[0m \u001b[0mtournament_data\u001b[0m\u001b[0;34m[\u001b[0m\u001b[0;34m'results'\u001b[0m\u001b[0;34m]\u001b[0m\u001b[0;34m:\u001b[0m\u001b[0;34m\u001b[0m\u001b[0m\n\u001b[1;32m      8\u001b[0m     \u001b[0mtournaments\u001b[0m\u001b[0;34m[\u001b[0m\u001b[0;34m'id'\u001b[0m\u001b[0;34m]\u001b[0m \u001b[0;34m=\u001b[0m \u001b[0mtournament\u001b[0m\u001b[0;34m[\u001b[0m\u001b[0;34m'name'\u001b[0m\u001b[0;34m]\u001b[0m\u001b[0;34m\u001b[0m\u001b[0m\n\u001b[0;32m----> 9\u001b[0;31m     \u001b[0mprint\u001b[0m\u001b[0;34m(\u001b[0m\u001b[0;34m\"%s: %s\"\u001b[0m\u001b[0;34m)\u001b[0m \u001b[0;34m%\u001b[0m\u001b[0;34m(\u001b[0m\u001b[0mtournament\u001b[0m\u001b[0;34m[\u001b[0m\u001b[0;34m'id'\u001b[0m\u001b[0;34m]\u001b[0m\u001b[0;34m,\u001b[0m \u001b[0mtournament\u001b[0m\u001b[0;34m[\u001b[0m\u001b[0;34m'name'\u001b[0m\u001b[0;34m]\u001b[0m\u001b[0;34m)\u001b[0m\u001b[0;34m\u001b[0m\u001b[0m\n\u001b[0m\u001b[1;32m     10\u001b[0m \u001b[0;34m\u001b[0m\u001b[0m\n\u001b[1;32m     11\u001b[0m \u001b[0;32mwhile\u001b[0m \u001b[0mtournament_data\u001b[0m\u001b[0;34m[\u001b[0m\u001b[0;34m'next'\u001b[0m\u001b[0;34m]\u001b[0m \u001b[0;32mis\u001b[0m \u001b[0;32mnot\u001b[0m \u001b[0;32mNone\u001b[0m\u001b[0;34m:\u001b[0m\u001b[0;34m\u001b[0m\u001b[0m\n",
      "\u001b[0;31mTypeError\u001b[0m: unsupported operand type(s) for %: 'NoneType' and 'tuple'"
     ]
    }
   ],
   "source": [
    "\n",
    "\n",
    "tournaments = {}\n",
    "next_tournament_page = tournament_data['next']\n",
    "for tournament in tournament_data['results']:\n",
    "    tournaments['id'] = tournament['name']\n",
    "    print(\"%s: %s\") %(tournament['id'], tournament['name'])\n",
    "\n",
    "while tournament_data['next'] is not None:\n",
    "    next_tournament_page = tournament_data['next']\n",
    "    test_results = session.get(next_tournament_page)\n",
    "    tournament_data = json.loads(text_results.text)\n",
    "    \n",
    "    next_tournament_page = tournament_data['next']\n",
    "    for tournament in tournament_data['results']:\n",
    "        tournaments['id'] = tournament['name']"
   ]
  },
  {
   "cell_type": "code",
   "execution_count": 14,
   "metadata": {
    "collapsed": false
   },
   "outputs": [
    {
     "data": {
      "text/plain": [
       "{'id': \"Zul'jin\"}"
      ]
     },
     "execution_count": 14,
     "metadata": {},
     "output_type": "execute_result"
    }
   ],
   "source": [
    "tournaments"
   ]
  },
  {
   "cell_type": "markdown",
   "metadata": {},
   "source": [
    "https://api.masterleague.net/?format=api"
   ]
  }
 ],
 "metadata": {
  "kernelspec": {
   "display_name": "Python 3",
   "language": "python",
   "name": "python3"
  },
  "language_info": {
   "codemirror_mode": {
    "name": "ipython",
    "version": 3
   },
   "file_extension": ".py",
   "mimetype": "text/x-python",
   "name": "python",
   "nbconvert_exporter": "python",
   "pygments_lexer": "ipython3",
   "version": "3.4.3"
  }
 },
 "nbformat": 4,
 "nbformat_minor": 0
}
