{
 "cells": [
  {
   "cell_type": "code",
   "execution_count": 1,
   "metadata": {
    "collapsed": false
   },
   "outputs": [],
   "source": [
    "import pickle\n",
    "import sys\n",
    "import csv\n",
    "\n",
    "sys.path.append('/Users/carolita/anaconda/envs/volunteer/lib/python3.6/site-packages/')\n",
    "\n",
    "from bs4 import BeautifulSoup"
   ]
  },
  {
   "cell_type": "markdown",
   "metadata": {},
   "source": [
    "# parse volunteermatch data"
   ]
  },
  {
   "cell_type": "code",
   "execution_count": null,
   "metadata": {
    "collapsed": false
   },
   "outputs": [],
   "source": [
    "opportunity_list = pickle.load(open( \"chicago-30-jobs.p\", \"rb\" ))\n",
    "html = BeautifulSoup(opportunity_list[0], 'html.parser')\n",
    "jobs = []\n",
    "\n",
    "for opportunity in opportunity_list:\n",
    "    html = BeautifulSoup(opportunity, 'html.parser')\n",
    "    platform = 'VolunteerMatch'\n",
    "    org = html.a.contents[0]\n",
    "    duration_string = html.find_all('span', {'class': 'left'})[0].contents[0]\n",
    "    duration = duration_string.replace('\\n           ', '')\n",
    "    state_list = html.find_all('span',{'class': 'region'})\n",
    "    if len(state_list) > 0:\n",
    "        state = state_list[0].contents[0]\n",
    "    else:\n",
    "        state = 'NA'\n",
    "    #print(state_list)\n",
    "    category_list = html.find_all('span', {'class': 'cause_icon'})\n",
    "    categories = []\n",
    "    for category in category_list:\n",
    "        #print(category.contents[1]['title'])\n",
    "        categories.append(category.contents[1]['title'])\n",
    "    job_type_list = html.find_all('h2', {'class': 'uxp_heading'})\n",
    "    #print(job_type_list)\n",
    "    job_type = 'job type'\n",
    "    #jobs.append([platform,org,state,categories,job_type,duration])\n",
    "    jobs.append({'platform': platform, 'org':org, 'state':state, 'category': categories, 'job_type': job_type, 'duration': duration})\n",
    "    "
   ]
  },
  {
   "cell_type": "markdown",
   "metadata": {},
   "source": [
    "# parse catchafire data"
   ]
  },
  {
   "cell_type": "code",
   "execution_count": 2,
   "metadata": {
    "collapsed": false
   },
   "outputs": [],
   "source": [
    "opportunity_list = pickle.load(open( \"catchafire-jobs.p\", \"rb\" ))\n",
    "html = BeautifulSoup(opportunity_list[0], 'html.parser')\n",
    "jobs = []\n",
    "\n",
    "#print(html)\n",
    "jobs = []\n",
    "\n",
    "\t# organization\n",
    "\t#for b in soup.find_all(class_=\"project-meta-name\"):\n",
    "\t#\tprint(b.text)\n",
    "\n",
    "\t# how to tell if job is virtual or at a specific location?\n",
    "\n",
    "\t# duration, location, state\n",
    "\t#cards = soup.find_all(class_=\"card-list\")\n",
    "\n",
    "\n",
    "\"\"\"\n",
    "\tfor tag in soup.find_all(class_=\"card-list\"):\n",
    "\t\t#print(tag)\n",
    "\t\t#print(tag.li.text)\n",
    "\t\tcity = str(tag.li.text)\n",
    "\t\tprint(city)\n",
    "\t\tif city.startswith('Estimated Time:'):\n",
    "\n",
    "\t\tif city.endswith(\"USA\"):\n",
    "\t\t\tstate = city[-6:-4]\n",
    "\t\t\tprint(state)\n",
    "\t\telse:\n",
    "\t\t\tstate = 'NA'\n",
    "\t\tprint(state)\n",
    "\t\t# if text ends in \", USA\" then state = 2 letters before the comma\n",
    "\n",
    "\t# category\n",
    "\t#for b in soup.find_all(class_=\"badge badge-caf-red\"):\n",
    "\t#\tprint(b.text)\n",
    "\t#print(soup)\n",
    "\t#print(opportunities)\n",
    "\n",
    "\t#print(opportunity)\n",
    "\"\"\"\n",
    "\n",
    "for opportunity in opportunity_list:\n",
    "    html = BeautifulSoup(opportunity, 'html.parser')\n",
    "    duration = 'NA'\n",
    "    state = 'NA'\n",
    "    platform = 'CatchAFire'\n",
    "    organization = html.find_all(class_=\"project-meta-name\")\n",
    "    if len(organization) > 0:\n",
    "        org = str(organization[0].text)\n",
    "    else:\n",
    "        org = 'NA'\n",
    "    #print(org)\n",
    "    \n",
    "    for tag in html.find_all(class_=\"card-list\"):\n",
    "        if(tag.find('li')):\n",
    "            listitem = str(tag.li.text)\n",
    "            #print(listitem)\n",
    "            if listitem.startswith('Estimated Time:'):\n",
    "                duration = listitem\n",
    "            if listitem.endswith(\"USA\"):\n",
    "                parts = listitem.split(\"USA\")\n",
    "                city = parts[0]\n",
    "                state = city[-6:-4]\n",
    "                #print(state)\n",
    "        \n",
    "    cats = html.find_all(class_=\"badge badge-caf-red\")\n",
    "    categories = []\n",
    "    for cat in cats:\n",
    "        categories.append(cat.text)\n",
    "    #print(categories)\n",
    "\n",
    "    job_type = 'job type'\n",
    "    \n",
    "    '''\n",
    "    duration_string = html.find_all('span', {'class': 'left'})[0].contents[0]\n",
    "    duration = duration_string.replace('\\n           ', '')\n",
    "    state_list = html.find_all('span',{'class': 'region'})\n",
    "    if len(state_list) > 0:\n",
    "        state = state_list[0].contents[0]\n",
    "    else:\n",
    "        state = 'NA'\n",
    "    #print(state_list)\n",
    "    category_list = html.find_all('span', {'class': 'cause_icon'})\n",
    "    categories = []\n",
    "    for category in category_list:\n",
    "        #print(category.contents[1]['title'])\n",
    "        categories.append(category.contents[1]['title'])\n",
    "    job_type_list = html.find_all('h2', {'class': 'uxp_heading'})\n",
    "    #print(job_type_list)\n",
    "    job_type = 'job type'\n",
    "    #jobs.append([platform,org,state,categories,job_type,duration])\n",
    "    '''\n",
    "    jobs.append({'platform': platform, 'org':org, 'state':state, 'category': categories, 'job_type': job_type, 'duration': duration})\n",
    "    "
   ]
  },
  {
   "cell_type": "markdown",
   "metadata": {},
   "source": [
    "Interested in these fields: Platform  -- State --  Org affiliate/who posted  --  Category -- Job Type  -- Duration.    "
   ]
  },
  {
   "cell_type": "markdown",
   "metadata": {},
   "source": [
    "`Platform = VolunteerMatch`\n",
    "\n",
    "`State = <span class=\"region\">IL</span>`\n",
    "\n",
    "`Org = <div class=\"opp_detail_org_name\">\n",
    "<a class=\"fn org\" href=\"/search/org65262.jsp\">Working In The Schools (WITS)</a>`\n",
    "\n",
    "`Category = <span class=\"cause_icon\">\n",
    "<img class=\"sprite_profile cause_icon_noborder_22\" src=\"//d3bl5qcndhcx94.cloudfront.net/rel116-3596f8fa/images/clear.gif\" title=\"Children &amp; Youth\"/></span>\n",
    "<span class=\"cause_icon\">\n",
    "<img class=\"sprite_profile cause_icon_noborder_25\" src=\"//d3bl5qcndhcx94.cloudfront.net/rel116-3596f8fa/images/clear.gif\" title=\"Community\"/></span>\n",
    "<span class=\"cause_icon\">\n",
    "<img class=\"sprite_profile cause_icon_noborder_15\" src=\"//d3bl5qcndhcx94.cloudfront.net/rel116-3596f8fa/images/clear.gif\" title=\"Education &amp; Literacy\"/></span>`\n",
    "\n",
    "`Job Type = `\n",
    "`<h2 class=\"uxp_heading\">Skills</h2>`\n",
    "`<span class=\"uxp_heading_underline\"></span>`\n",
    "`<ul>`\n",
    "`<li>Literacy / Reading</li>`\n",
    "`<li class=\"last\">Mentoring</li>`\n",
    "`</ul>`\n",
    "\n",
    "`Duration = <div class=\"dateTime_image sprite_global icon_calendar_brn left\"></div>\n",
    "<span class=\"left\"> Mon Oct 02, 2017 09:15 AM - Thu May 31, 2018 10:00 AM </span>\n",
    "</span>\n",
    "</div>`"
   ]
  },
  {
   "cell_type": "markdown",
   "metadata": {},
   "source": [
    "# write data to file"
   ]
  },
  {
   "cell_type": "code",
   "execution_count": 3,
   "metadata": {
    "collapsed": true
   },
   "outputs": [],
   "source": [
    "savefile = 'catchafire-jobs.csv'\n",
    "#savefile = 'volunteermatch-chicago-jobs.csv'"
   ]
  },
  {
   "cell_type": "code",
   "execution_count": 4,
   "metadata": {
    "collapsed": false
   },
   "outputs": [],
   "source": [
    "with open(savefile, 'w') as csvfile:\n",
    "    fieldnames = ['platform', 'state', 'org', 'category', 'job_type', 'duration']\n",
    "    writer = csv.DictWriter(csvfile, fieldnames = fieldnames)\n",
    "    writer.writeheader()\n",
    "    for job in jobs:\n",
    "        writer.writerow(job)"
   ]
  },
  {
   "cell_type": "code",
   "execution_count": null,
   "metadata": {
    "collapsed": true
   },
   "outputs": [],
   "source": []
  }
 ],
 "metadata": {
  "kernelspec": {
   "display_name": "Python 3",
   "language": "python",
   "name": "python3"
  },
  "language_info": {
   "codemirror_mode": {
    "name": "ipython",
    "version": 3
   },
   "file_extension": ".py",
   "mimetype": "text/x-python",
   "name": "python",
   "nbconvert_exporter": "python",
   "pygments_lexer": "ipython3",
   "version": "3.5.4"
  }
 },
 "nbformat": 4,
 "nbformat_minor": 0
}
